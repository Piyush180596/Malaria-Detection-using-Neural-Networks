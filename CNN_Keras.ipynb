{
 "cells": [
  {
   "cell_type": "code",
   "execution_count": 1,
   "metadata": {},
   "outputs": [
    {
     "name": "stderr",
     "output_type": "stream",
     "text": [
      "C:\\Users\\cpiyu\\Anaconda3\\lib\\site-packages\\h5py\\__init__.py:36: FutureWarning: Conversion of the second argument of issubdtype from `float` to `np.floating` is deprecated. In future, it will be treated as `np.float64 == np.dtype(float).type`.\n",
      "  from ._conv import register_converters as _register_converters\n",
      "Using TensorFlow backend.\n"
     ]
    }
   ],
   "source": [
    "import os\n",
    "import numpy as np\n",
    "import keras\n",
    "from sklearn.model_selection import train_test_split\n",
    "from keras.preprocessing.image import img_to_array,ImageDataGenerator\n",
    "from PIL import Image\n",
    "from keras.utils import to_categorical\n",
    "from keras.models import Sequential, Model,load_model,model_from_json\n",
    "from keras.optimizers import SGD,Adam\n",
    "from keras.layers import *\n",
    "import tensorflow as tf\n",
    "import matplotlib.pyplot as plt"
   ]
  },
  {
   "cell_type": "code",
   "execution_count": 2,
   "metadata": {},
   "outputs": [],
   "source": [
    "def preprocess(image_path):\n",
    "    img = Image.open(image_path)\n",
    "    img = img.resize((96,96), Image.ANTIALIAS)\n",
    "    img = img_to_array(img)\n",
    "    img = (img - 128) / 128\n",
    "    return img"
   ]
  },
  {
   "cell_type": "code",
   "execution_count": 3,
   "metadata": {},
   "outputs": [],
   "source": [
    "def list2np(l, size):\n",
    "    n = np.array(l)\n",
    "    return(n.reshape((size,)+img_shape))"
   ]
  },
  {
   "cell_type": "code",
   "execution_count": 4,
   "metadata": {},
   "outputs": [],
   "source": [
    "data = list()\n",
    "class_labels = list()\n",
    "labels = ['Parasitized','Uninfected']\n",
    "count = 0\n",
    "\n",
    "while(count<2):\n",
    "    for image in os.listdir('../cell_images/cell_images/'+labels[count]):\n",
    "        if(image.split('.')[1] == 'png'):\n",
    "            img = preprocess('../cell_images/cell_images/'+labels[count]+'/'+image)\n",
    "            data.append(img)\n",
    "            class_labels.append(count)\n",
    "    count = count+1\n",
    "data = np.array(data)\n",
    "class_labels = np.array(class_labels)"
   ]
  },
  {
   "cell_type": "code",
   "execution_count": 5,
   "metadata": {},
   "outputs": [
    {
     "name": "stdout",
     "output_type": "stream",
     "text": [
      "<class 'numpy.ndarray'> (96, 96, 3)\n",
      "<class 'numpy.ndarray'>\n"
     ]
    }
   ],
   "source": [
    "print(type(data[0]),data[0].shape)\n",
    "print(type(class_labels))"
   ]
  },
  {
   "cell_type": "code",
   "execution_count": 6,
   "metadata": {},
   "outputs": [
    {
     "data": {
      "text/plain": [
       "((27558, 96, 96, 3), (27558,))"
      ]
     },
     "execution_count": 6,
     "metadata": {},
     "output_type": "execute_result"
    }
   ],
   "source": [
    "data.shape,class_labels.shape"
   ]
  },
  {
   "cell_type": "code",
   "execution_count": 7,
   "metadata": {},
   "outputs": [],
   "source": [
    "X_train,X_val,y_train,y_val = train_test_split(data,class_labels,shuffle=True,test_size=0.2,random_state=42)\n",
    "y_train = to_categorical(y_train, num_classes=2)\n",
    "y_val= to_categorical(y_val, num_classes=2)"
   ]
  },
  {
   "cell_type": "code",
   "execution_count": 8,
   "metadata": {},
   "outputs": [],
   "source": [
    "model = Sequential()\n",
    "model.add(Conv2D(32, (3,3), padding=\"same\", input_shape=(96,96,3),activation='relu'))\n",
    "model.add(MaxPooling2D(pool_size=(3,3)))\n",
    "\n",
    "model.add(Conv2D(32, (3,3), padding=\"same\",activation='relu'))\n",
    "model.add(MaxPooling2D(pool_size=(3,3)))\n",
    "\n",
    "model.add(Flatten())\n",
    "model.add(Dense(128,activation='relu'))\n",
    "\n",
    "model.add(Dense(2,activation='sigmoid'))"
   ]
  },
  {
   "cell_type": "code",
   "execution_count": 9,
   "metadata": {},
   "outputs": [
    {
     "name": "stdout",
     "output_type": "stream",
     "text": [
      "_________________________________________________________________\n",
      "Layer (type)                 Output Shape              Param #   \n",
      "=================================================================\n",
      "conv2d_1 (Conv2D)            (None, 96, 96, 32)        896       \n",
      "_________________________________________________________________\n",
      "max_pooling2d_1 (MaxPooling2 (None, 32, 32, 32)        0         \n",
      "_________________________________________________________________\n",
      "conv2d_2 (Conv2D)            (None, 32, 32, 32)        9248      \n",
      "_________________________________________________________________\n",
      "max_pooling2d_2 (MaxPooling2 (None, 10, 10, 32)        0         \n",
      "_________________________________________________________________\n",
      "flatten_1 (Flatten)          (None, 3200)              0         \n",
      "_________________________________________________________________\n",
      "dense_1 (Dense)              (None, 128)               409728    \n",
      "_________________________________________________________________\n",
      "dense_2 (Dense)              (None, 2)                 258       \n",
      "=================================================================\n",
      "Total params: 420,130\n",
      "Trainable params: 420,130\n",
      "Non-trainable params: 0\n",
      "_________________________________________________________________\n"
     ]
    }
   ],
   "source": [
    "model.summary()"
   ]
  },
  {
   "cell_type": "code",
   "execution_count": 10,
   "metadata": {},
   "outputs": [
    {
     "name": "stdout",
     "output_type": "stream",
     "text": [
      "Train on 22046 samples, validate on 5512 samples\n",
      "Epoch 1/25\n",
      " - 213s - loss: 0.5653 - acc: 0.7060 - val_loss: 0.5131 - val_acc: 0.7336\n",
      "Epoch 2/25\n",
      " - 30s - loss: 0.4025 - acc: 0.8225 - val_loss: 0.3484 - val_acc: 0.8374\n",
      "Epoch 3/25\n",
      " - 29s - loss: 0.2636 - acc: 0.8991 - val_loss: 0.2350 - val_acc: 0.9190\n",
      "Epoch 4/25\n",
      " - 17s - loss: 0.1977 - acc: 0.9284 - val_loss: 0.1827 - val_acc: 0.9400\n",
      "Epoch 5/25\n",
      " - 10s - loss: 0.1682 - acc: 0.9408 - val_loss: 0.1644 - val_acc: 0.9427\n",
      "Epoch 6/25\n",
      " - 10s - loss: 0.1530 - acc: 0.9462 - val_loss: 0.1686 - val_acc: 0.9376\n",
      "Epoch 7/25\n",
      " - 10s - loss: 0.1444 - acc: 0.9496 - val_loss: 0.1772 - val_acc: 0.9327\n",
      "Epoch 8/25\n",
      " - 10s - loss: 0.1358 - acc: 0.9527 - val_loss: 0.1503 - val_acc: 0.9503\n",
      "Epoch 9/25\n",
      " - 10s - loss: 0.1290 - acc: 0.9551 - val_loss: 0.1648 - val_acc: 0.9429\n",
      "Epoch 10/25\n",
      " - 10s - loss: 0.1241 - acc: 0.9569 - val_loss: 0.1423 - val_acc: 0.9502\n",
      "Epoch 11/25\n",
      " - 10s - loss: 0.1188 - acc: 0.9586 - val_loss: 0.1359 - val_acc: 0.9537\n",
      "Epoch 12/25\n",
      " - 10s - loss: 0.1165 - acc: 0.9598 - val_loss: 0.1427 - val_acc: 0.9504\n",
      "Epoch 13/25\n",
      " - 10s - loss: 0.1106 - acc: 0.9612 - val_loss: 0.1581 - val_acc: 0.9494\n",
      "Epoch 14/25\n",
      " - 10s - loss: 0.1078 - acc: 0.9621 - val_loss: 0.1546 - val_acc: 0.9458\n",
      "Epoch 15/25\n",
      " - 10s - loss: 0.1054 - acc: 0.9633 - val_loss: 0.1319 - val_acc: 0.9556\n",
      "Epoch 16/25\n",
      " - 10s - loss: 0.1004 - acc: 0.9645 - val_loss: 0.1352 - val_acc: 0.9528\n",
      "Epoch 17/25\n",
      " - 10s - loss: 0.0979 - acc: 0.9656 - val_loss: 0.1324 - val_acc: 0.9543\n",
      "Epoch 18/25\n",
      " - 10s - loss: 0.0943 - acc: 0.9676 - val_loss: 0.1582 - val_acc: 0.9441\n",
      "Epoch 19/25\n",
      " - 10s - loss: 0.0928 - acc: 0.9668 - val_loss: 0.1360 - val_acc: 0.9558\n",
      "Epoch 20/25\n",
      " - 10s - loss: 0.0894 - acc: 0.9683 - val_loss: 0.1399 - val_acc: 0.9507\n",
      "Epoch 21/25\n",
      " - 10s - loss: 0.0852 - acc: 0.9703 - val_loss: 0.1518 - val_acc: 0.9475\n",
      "Epoch 22/25\n",
      " - 10s - loss: 0.0816 - acc: 0.9719 - val_loss: 0.1415 - val_acc: 0.9534\n",
      "Epoch 23/25\n",
      " - 10s - loss: 0.0807 - acc: 0.9722 - val_loss: 0.1400 - val_acc: 0.9533\n",
      "Epoch 24/25\n",
      " - 10s - loss: 0.0769 - acc: 0.9736 - val_loss: 0.1401 - val_acc: 0.9528\n",
      "Epoch 25/25\n",
      " - 10s - loss: 0.0742 - acc: 0.9749 - val_loss: 0.1603 - val_acc: 0.9500\n"
     ]
    }
   ],
   "source": [
    "opt = Adam(lr=0.0002, beta_1=0.5,clipvalue = 1)\n",
    "model.compile(loss='binary_crossentropy', optimizer=opt,metrics=['accuracy'])\n",
    "model_history = model.fit(X_train,y_train,validation_data=(X_val,y_val),batch_size=128,epochs=25,validation_split=.1,verbose=2)"
   ]
  },
  {
   "cell_type": "code",
   "execution_count": null,
   "metadata": {},
   "outputs": [],
   "source": []
  }
 ],
 "metadata": {
  "kernelspec": {
   "display_name": "Python 3",
   "language": "python",
   "name": "python3"
  },
  "language_info": {
   "codemirror_mode": {
    "name": "ipython",
    "version": 3
   },
   "file_extension": ".py",
   "mimetype": "text/x-python",
   "name": "python",
   "nbconvert_exporter": "python",
   "pygments_lexer": "ipython3",
   "version": "3.6.5"
  }
 },
 "nbformat": 4,
 "nbformat_minor": 2
}
